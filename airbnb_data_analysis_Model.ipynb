{
 "cells": [
  {
   "cell_type": "code",
   "execution_count": 34,
   "metadata": {
    "collapsed": true
   },
   "outputs": [],
   "source": [
    "import numpy as np\n",
    "import pandas as pd\n",
    "import matplotlib.pyplot as plt\n",
    "import matplotlib.dates as mdates\n",
    "import geopy.distance as dist\n",
    "import seaborn as sns\n",
    "import sklearn as skl\n",
    "from sklearn.model_selection import train_test_split\n",
    "from sklearn.pipeline import Pipeline\n",
    "from sklearn.linear_model import LogisticRegression\n",
    "from sklearn.preprocessing import StandardScaler\n",
    "from sklearn.ensemble import RandomForestClassifier\n",
    "from sklearn.grid_search import GridSearchCV\n",
    "\n",
    "import helper as hlp\n",
    "\n",
    "%matplotlib inline\n",
    "plt.style.use('seaborn-poster')"
   ]
  },
  {
   "cell_type": "code",
   "execution_count": 3,
   "metadata": {
    "collapsed": true
   },
   "outputs": [],
   "source": [
    "boston_listings = pd.read_csv('data/boston/listings.csv', parse_dates=True)\n",
    "seattle_listings = pd.read_csv('data/seattle/listings.csv', parse_dates=True)"
   ]
  },
  {
   "cell_type": "code",
   "execution_count": 4,
   "metadata": {},
   "outputs": [
    {
     "data": {
      "text/plain": [
       "100.0    628\n",
       "93.0     205\n",
       "96.0     197\n",
       "95.0     171\n",
       "97.0     168\n",
       "90.0     163\n",
       "80.0     160\n",
       "98.0     153\n",
       "94.0     109\n",
       "92.0     105\n",
       "91.0      88\n",
       "87.0      87\n",
       "88.0      69\n",
       "99.0      65\n",
       "89.0      56\n",
       "86.0      47\n",
       "85.0      39\n",
       "84.0      34\n",
       "60.0      33\n",
       "83.0      30\n",
       "70.0      19\n",
       "82.0      16\n",
       "75.0      16\n",
       "73.0      14\n",
       "78.0      12\n",
       "40.0      11\n",
       "79.0      10\n",
       "77.0       9\n",
       "76.0       7\n",
       "81.0       7\n",
       "20.0       6\n",
       "64.0       5\n",
       "74.0       5\n",
       "67.0       4\n",
       "71.0       4\n",
       "50.0       3\n",
       "65.0       3\n",
       "68.0       2\n",
       "47.0       2\n",
       "66.0       2\n",
       "48.0       1\n",
       "72.0       1\n",
       "53.0       1\n",
       "58.0       1\n",
       "69.0       1\n",
       "55.0       1\n",
       "62.0       1\n",
       "46.0       1\n",
       "Name: review_scores_rating, dtype: int64"
      ]
     },
     "execution_count": 4,
     "metadata": {},
     "output_type": "execute_result"
    }
   ],
   "source": [
    "boston_listings['review_scores_rating'].value_counts()"
   ]
  },
  {
   "cell_type": "code",
   "execution_count": 5,
   "metadata": {},
   "outputs": [
    {
     "data": {
      "text/plain": [
       "10.0    1177\n",
       "9.0     1130\n",
       "8.0      334\n",
       "7.0       51\n",
       "6.0       49\n",
       "4.0       12\n",
       "2.0        7\n",
       "5.0        2\n",
       "3.0        2\n",
       "Name: review_scores_value, dtype: int64"
      ]
     },
     "execution_count": 5,
     "metadata": {},
     "output_type": "execute_result"
    }
   ],
   "source": [
    "boston_listings['review_scores_value'].value_counts()"
   ]
  },
  {
   "cell_type": "code",
   "execution_count": 6,
   "metadata": {
    "collapsed": true
   },
   "outputs": [],
   "source": [
    "boston_listings['review_scores_value'].fillna('Unrated', inplace=True)\n",
    "boston_listings['review_scores_rating'].fillna('Unrated', inplace=True)\n",
    "boston_listings['host_response_time'] = boston_listings['host_response_time'].astype('|S80')\n",
    "boston_listings['host_response_time'] = boston_listings['host_response_time'].fillna(boston_listings['host_response_time'].mode())\n",
    "\n",
    "boston_listings['bathrooms'].fillna(boston_listings['bathrooms'].mean(), inplace=True)\n",
    "boston_listings['bedrooms'].fillna(boston_listings['bedrooms'].mean(), inplace=True)\n",
    "boston_listings['beds'].fillna(boston_listings['beds'].mean(), inplace=True)\n",
    "boston_listings['property_type'].fillna(method='ffill', inplace=True)"
   ]
  },
  {
   "cell_type": "code",
   "execution_count": 7,
   "metadata": {},
   "outputs": [
    {
     "data": {
      "image/png": "[encoded data removed]",
      "text/plain": [
       "<matplotlib.figure.Figure at 0x1a115bb2e8>"
      ]
     },
     "metadata": {},
     "output_type": "display_data"
    }
   ],
   "source": [
    "plt.figure(figsize =(15,6))\n",
    "#fig, ax = plt.subplots(1,1)\n",
    "#ax.grid(True, zorder=0)\n",
    "ax = boston_listings.review_scores_value.value_counts().plot(kind='bar')\n",
    "#ax.grid('on')\n",
    "for p in ax.patches:\n",
    "    height = p.get_height()\n",
    "    ax.text((p.get_x() + p.get_width()/2.),\n",
    "            height + 5,\n",
    "            '%d' % int(height),\n",
    "            ha='center',\n",
    "            color='black',\n",
    "            fontsize=13)\n",
    "plt.ylim(bottom = -2);\n",
    "\n"
   ]
  },
  {
   "cell_type": "code",
   "execution_count": 8,
   "metadata": {
    "collapsed": true
   },
   "outputs": [],
   "source": [
    "def process_binary_categories(df, cols_to_encode):\n",
    "    for col in cols_to_encode:\n",
    "        df[col] = np.where(df[col] == 't', 1, 0)\n",
    "    return df\n",
    "\n",
    "def process_multi_categories(df, cols_to_encode):\n",
    "    df = pd.get_dummies(df, columns=cols_to_encode, drop_first=True)\n",
    "    return df\n",
    "\n",
    "def process_amenities(df):\n",
    "    ## We only want to get a subset of amenities - TV, Wifi, Kitchen, Internet, Free parking, Free street parking,\n",
    "    # No Smoking/ Non Smoking, 24 hour check in, heating, air conditioning\n",
    "    \n",
    "    ## TODO: Check if we can do this dynamically\n",
    "    ## TODO: Add house rules also\n",
    "    \n",
    "    df['amenities'] = df['amenities'].str.lower()\n",
    "    df['TV'] = df['amenities'].str.contains('TV').astype(int)\n",
    "    df['Wifi'] = df['amenities'].str.contains('wifi'or'internet').astype(int)\n",
    "    df['Kitchen'] = df['amenities'].str.contains('kitchen').astype(int)\n",
    "    df['Free parking'] = df['amenities'].str.contains('free parking').astype(int)\n",
    "    df['Free Street parking'] = df['amenities'].str.contains('free street parking').astype(int)\n",
    "    df['No Smoking'] = df['amenities'].str.contains('no smoking'or'non smoking').astype(int)\n",
    "    df['24 hour check in'] = df['amenities'].str.contains('24 hour check in').astype(int)\n",
    "    df['Heating'] = df['amenities'].str.contains('Heating').astype(int)\n",
    "    df['Air conditioning'] = df['amenities'].str.contains('air conditioning').astype(int)\n",
    "    return df\n",
    "\n",
    "def process_prices(df, cols_to_process):\n",
    "    for col in cols_to_process:\n",
    "        df.loc[:, col] = df[col].replace( '[\\$,)]','', regex=True ).astype('float64')\n",
    "        df.loc[:, col] = df[col].fillna(0)\n",
    "    return df\n",
    "\n",
    "def process_special(df):\n",
    "    df = df.apply(lambda col: pd.to_datetime(col, errors='ignore')\n",
    "              if col.dtypes == object \n",
    "              else col, \n",
    "              axis=0)\n",
    "    \n",
    "    max_days = df['host_since'].max()\n",
    "    df['host_since_days'] = max_days - df['host_since']\n",
    "    df['host_since_days'] = df['host_since_days'].dt.days\n",
    "    \n",
    "    df['distance_center'] = df.apply(lambda x: dist.distance((x['latitude'], x['longitude']), \n",
    "                                    (42.3584300, -71.0597700)).km, axis = 1)\n",
    "    \n",
    "    df['host_response_rate'] = df['host_response_rate'].str.replace('%','').astype('float64')\n",
    "    df['host_acceptance_rate'] = df['host_acceptance_rate'].str.replace('%','').astype('float64')\n",
    "    \n",
    "    df['host_response_rate'] = df['host_response_rate'].fillna(df['host_response_rate'].mean())\n",
    "    df['host_acceptance_rate'] = df['host_acceptance_rate'].fillna(df['host_acceptance_rate'].mean())\n",
    "    \n",
    "    return df"
   ]
  },
  {
   "cell_type": "code",
   "execution_count": 9,
   "metadata": {
    "collapsed": true
   },
   "outputs": [],
   "source": [
    "binary_cats = ['host_is_superhost', 'host_identity_verified', 'instant_bookable']\n",
    "boston_listings = process_binary_categories(boston_listings, binary_cats)"
   ]
  },
  {
   "cell_type": "code",
   "execution_count": 10,
   "metadata": {
    "collapsed": true
   },
   "outputs": [],
   "source": [
    "multi_cats = ['property_type', 'room_type', 'bed_type', 'bathrooms', 'bedrooms', 'beds', 'cancellation_policy', 'neighbourhood_cleansed', 'host_response_time']\n",
    "boston_listings = process_multi_categories(boston_listings, multi_cats)"
   ]
  },
  {
   "cell_type": "code",
   "execution_count": 11,
   "metadata": {
    "collapsed": true
   },
   "outputs": [],
   "source": [
    "price_cols = ['price', 'cleaning_fee', 'security_deposit', 'extra_people']\n",
    "boston_listings = process_prices(boston_listings, price_cols)"
   ]
  },
  {
   "cell_type": "code",
   "execution_count": 12,
   "metadata": {
    "collapsed": true
   },
   "outputs": [],
   "source": [
    "boston_listings = process_amenities(boston_listings)\n",
    "boston_listings = process_special(boston_listings)"
   ]
  },
  {
   "cell_type": "code",
   "execution_count": 13,
   "metadata": {
    "collapsed": true
   },
   "outputs": [],
   "source": [
    "## Drop columns we do not want\n",
    "##From assessment #1\n",
    "cols_to_be_dropped = ['neighbourhood_group_cleansed', 'has_availability', 'license', 'jurisdiction_names',\n",
    "                     'scrape_id', 'last_scraped', \n",
    "                     'listing_url', 'thumbnail_url', 'medium_url', 'picture_url', 'xl_picture_url',\n",
    "                     'requires_license', 'country_code' , 'country']\n",
    "\n",
    "##After pre processing and feature engineering, in addition to categorical columns \n",
    "# Being dropped either due to missing data or the assumption that they may not contribute to the prediction\n",
    "cols_to_be_dropped.extend((\n",
    "'amenities', \n",
    "'id', 'experiences_offered', \n",
    "'review_scores_accuracy', 'review_scores_cleanliness', 'review_scores_checkin', 'review_scores_rating',\n",
    "'review_scores_communication', 'review_scores_location', 'first_review', 'last_review', 'reviews_per_month',\n",
    "'name','summary', 'space', 'description', 'neighborhood_overview','transit','notes', 'access', 'interaction', \n",
    "'house_rules', 'weekly_price', 'monthly_price', 'square_feet',\n",
    "'host_id', 'host_url', 'host_location', 'host_name', 'host_about', 'host_thumbnail_url', 'host_picture_url',\n",
    "'host_neighbourhood', 'host_verifications', 'host_has_profile_pic', 'host_identity_verified', 'host_since', 'street',\n",
    "'neighbourhood', 'city', 'state', 'zipcode', 'market', 'smart_location', 'country_code', 'country',\n",
    "'availability_30','availability_60', 'availability_90', 'availability_365', 'calendar_last_scraped',\n",
    "'require_guest_profile_picture', 'require_guest_phone_verification', 'calculated_host_listings_count',\n",
    "'calendar_updated', 'calendar_last_scraped', \n",
    "'guests_included', 'minimum_nights', 'maximum_nights',\n",
    "'is_location_exact'))"
   ]
  },
  {
   "cell_type": "code",
   "execution_count": 14,
   "metadata": {
    "collapsed": true
   },
   "outputs": [],
   "source": [
    "boston_listings.drop(cols_to_be_dropped, axis=1, inplace=True)"
   ]
  },
  {
   "cell_type": "code",
   "execution_count": 15,
   "metadata": {
    "collapsed": true
   },
   "outputs": [],
   "source": [
    "def categorize_rating(rating):\n",
    "    \"\"\"\n",
    "    Map various categories to two distinct - 10 or less than 10\n",
    "    \"\"\"\n",
    "    if rating > 9.0:\n",
    "        return '10'\n",
    "    else:\n",
    "        return '9-'\n",
    "    assert 0  # unexpected rating"
   ]
  },
  {
   "cell_type": "code",
   "execution_count": 17,
   "metadata": {},
   "outputs": [],
   "source": [
    "boston_listings.drop(boston_listings.loc[boston_listings['review_scores_value']=='Unrated'].index, inplace=True)\n",
    "y = boston_listings['review_scores_value'].map(categorize_rating)\n",
    "X = boston_listings.drop('review_scores_value', axis = 1)"
   ]
  },
  {
   "cell_type": "code",
   "execution_count": 20,
   "metadata": {},
   "outputs": [],
   "source": [
    "X_train, X_test, y_train, y_test = train_test_split(X, y, test_size=0.25, random_state=42)"
   ]
  },
  {
   "cell_type": "code",
   "execution_count": 23,
   "metadata": {},
   "outputs": [],
   "source": [
    "clf = LogisticRegression(multi_class='ovr', C=0.010)\n",
    "logregclf = Pipeline([\n",
    "        ('scaler', skl.preprocessing.StandardScaler()), ('logistic', clf)])"
   ]
  },
  {
   "cell_type": "code",
   "execution_count": 24,
   "metadata": {},
   "outputs": [
    {
     "data": {
      "text/plain": [
       "array([ 0.52354049,  0.7027027 ])"
      ]
     },
     "execution_count": 24,
     "metadata": {},
     "output_type": "execute_result"
    }
   ],
   "source": [
    "logregclf.fit(X_train, y_train)\n",
    "skl.metrics.f1_score(y_test, logregclf.predict(X_test), average=None)"
   ]
  },
  {
   "cell_type": "code",
   "execution_count": 25,
   "metadata": {},
   "outputs": [
    {
     "data": {
      "text/plain": [
       "0.63386396526772792"
      ]
     },
     "execution_count": 25,
     "metadata": {},
     "output_type": "execute_result"
    }
   ],
   "source": [
    "skl.metrics.accuracy_score(y_test, logregclf.predict(X_test))"
   ]
  },
  {
   "cell_type": "code",
   "execution_count": 26,
   "metadata": {},
   "outputs": [
    {
     "data": {
      "text/plain": [
       "0.62738874359300434"
      ]
     },
     "execution_count": 26,
     "metadata": {},
     "output_type": "execute_result"
    }
   ],
   "source": [
    "skl.metrics.log_loss(y_test, logregclf.predict_proba(X_test))"
   ]
  },
  {
   "cell_type": "code",
   "execution_count": 27,
   "metadata": {},
   "outputs": [
    {
     "data": {
      "text/plain": [
       "array(['10', '9-'], dtype=object)"
      ]
     },
     "execution_count": 27,
     "metadata": {},
     "output_type": "execute_result"
    }
   ],
   "source": [
    "logregclf.classes_"
   ]
  },
  {
   "cell_type": "code",
   "execution_count": 28,
   "metadata": {},
   "outputs": [
    {
     "data": {
      "text/plain": [
       "array([[ 10,   1],\n",
       "       [290, 390]])"
      ]
     },
     "execution_count": 28,
     "metadata": {},
     "output_type": "execute_result"
    }
   ],
   "source": [
    "skl.metrics.confusion_matrix(y_test, clf.predict(X_test), labels=logregclf.classes_).T"
   ]
  },
  {
   "cell_type": "code",
   "execution_count": 29,
   "metadata": {},
   "outputs": [
    {
     "data": {
      "text/html": [
       "<div>\n",
       "<style>\n",
       "    .dataframe thead tr:only-child th {\n",
       "        text-align: right;\n",
       "    }\n",
       "\n",
       "    .dataframe thead th {\n",
       "        text-align: left;\n",
       "    }\n",
       "\n",
       "    .dataframe tbody tr th {\n",
       "        vertical-align: top;\n",
       "    }\n",
       "</style>\n",
       "<table border=\"1\" class=\"dataframe\">\n",
       "  <thead>\n",
       "    <tr style=\"text-align: right;\">\n",
       "      <th>Predicted</th>\n",
       "      <th>10</th>\n",
       "      <th>9-</th>\n",
       "      <th>All</th>\n",
       "    </tr>\n",
       "    <tr>\n",
       "      <th>True</th>\n",
       "      <th></th>\n",
       "      <th></th>\n",
       "      <th></th>\n",
       "    </tr>\n",
       "  </thead>\n",
       "  <tbody>\n",
       "    <tr>\n",
       "      <th>10</th>\n",
       "      <td>139</td>\n",
       "      <td>161</td>\n",
       "      <td>300</td>\n",
       "    </tr>\n",
       "    <tr>\n",
       "      <th>9-</th>\n",
       "      <td>92</td>\n",
       "      <td>299</td>\n",
       "      <td>391</td>\n",
       "    </tr>\n",
       "    <tr>\n",
       "      <th>All</th>\n",
       "      <td>231</td>\n",
       "      <td>460</td>\n",
       "      <td>691</td>\n",
       "    </tr>\n",
       "  </tbody>\n",
       "</table>\n",
       "</div>"
      ],
      "text/plain": [
       "Predicted   10   9-  All\n",
       "True                    \n",
       "10         139  161  300\n",
       "9-          92  299  391\n",
       "All        231  460  691"
      ]
     },
     "execution_count": 29,
     "metadata": {},
     "output_type": "execute_result"
    }
   ],
   "source": [
    "pd.crosstab(y_test, logregclf.predict(X_test), rownames=['True'], colnames=['Predicted'], margins=True)"
   ]
  },
  {
   "cell_type": "code",
   "execution_count": 30,
   "metadata": {
    "collapsed": true
   },
   "outputs": [],
   "source": [
    "def make_weight(y):\n",
    "    \"\"\"\n",
    "    Return sample weights according to inverse class frequency\n",
    "    y: Series of labels\n",
    "    \"\"\"\n",
    "    weight_dict = dict(1/y.value_counts())\n",
    "    return y.map(weight_dict)\n",
    "\n",
    "\n",
    "def class_weighted_accuracy_score(estimator, X, y):\n",
    "    \"\"\"\n",
    "    Scorer that uses accuracy after reweighting samples by class frequency\n",
    "    \"\"\"\n",
    "    return skl.metrics.accuracy_score(y, estimator.predict(X),\n",
    "                                      sample_weight=make_weight(y))"
   ]
  },
  {
   "cell_type": "code",
   "execution_count": 33,
   "metadata": {},
   "outputs": [
    {
     "name": "stdout",
     "output_type": "stream",
     "text": [
      "Fitting 3 folds for each of 2 candidates, totalling 6 fits\n"
     ]
    },
    {
     "name": "stderr",
     "output_type": "stream",
     "text": [
      "[Parallel(n_jobs=1)]: Done   6 out of   6 | elapsed:    3.3s finished\n"
     ]
    },
    {
     "data": {
      "text/plain": [
       "GridSearchCV(cv=3, error_score='raise',\n",
       "       estimator=Pipeline(memory=None,\n",
       "     steps=[('scaler', StandardScaler(copy=True, with_mean=True, with_std=True)), ('clf', RandomForestClassifier(bootstrap=True, class_weight='balanced_subsample',\n",
       "            criterion='gini', max_depth=None, max_features=103,\n",
       "            max_leaf_nodes=None, min_impurity_decrease=0.0,\n",
       "            min_i...mators=100, n_jobs=4, oob_score=False, random_state=None,\n",
       "            verbose=0, warm_start=False))]),\n",
       "       fit_params={}, iid=True, n_jobs=1,\n",
       "       param_grid={'clf__n_estimators': [100, 103]},\n",
       "       pre_dispatch='2*n_jobs', refit=True,\n",
       "       scoring=<function class_weighted_accuracy_score at 0x1a17f6bea0>,\n",
       "       verbose=1)"
      ]
     },
     "execution_count": 33,
     "metadata": {},
     "output_type": "execute_result"
    }
   ],
   "source": [
    "\n",
    "scaler = StandardScaler()\n",
    "rfclf = RandomForestClassifier(n_estimators=100, criterion='gini', \n",
    "                                              max_features=103, max_depth=None, # Can experiment with this to regularize\n",
    "                                              n_jobs=4, class_weight='balanced_subsample') # try 'subsample' too?\n",
    "rf_pipe = Pipeline([\n",
    "        ('scaler', scaler), ('clf', rfclf)])\n",
    "param_grid={'clf__n_estimators': [100, 103]}\n",
    "gridclf = GridSearchCV(rf_pipe, param_grid=param_grid, scoring=class_weighted_accuracy_score, \n",
    "                                            n_jobs=1, cv=3, verbose=1)\n",
    "gridclf.fit(X_train, y_train)"
   ]
  },
  {
   "cell_type": "code",
   "execution_count": 35,
   "metadata": {},
   "outputs": [
    {
     "data": {
      "text/plain": [
       "[mean: 0.67936, std: 0.00673, params: {'clf__n_estimators': 100},\n",
       " mean: 0.67445, std: 0.00464, params: {'clf__n_estimators': 103}]"
      ]
     },
     "execution_count": 35,
     "metadata": {},
     "output_type": "execute_result"
    }
   ],
   "source": [
    "gridclf.grid_scores_"
   ]
  },
  {
   "cell_type": "code",
   "execution_count": 41,
   "metadata": {},
   "outputs": [
    {
     "name": "stdout",
     "output_type": "stream",
     "text": [
      "Fitting 3 folds for each of 8 candidates, totalling 24 fits\n"
     ]
    },
    {
     "name": "stderr",
     "output_type": "stream",
     "text": [
      "[Parallel(n_jobs=1)]: Done  24 out of  24 | elapsed:   11.4s finished\n"
     ]
    },
    {
     "data": {
      "text/plain": [
       "GridSearchCV(cv=3, error_score='raise',\n",
       "       estimator=Pipeline(memory=None,\n",
       "     steps=[('scaler', StandardScaler(copy=True, with_mean=True, with_std=True)), ('clf', RandomForestClassifier(bootstrap=True, class_weight='balanced_subsample',\n",
       "            criterion='gini', max_depth=None, max_features='auto',\n",
       "            max_leaf_nodes=None, min_impurity_decrease=0.0,\n",
       "            mi...mators=100, n_jobs=4, oob_score=False, random_state=None,\n",
       "            verbose=0, warm_start=False))]),\n",
       "       fit_params={}, iid=True, n_jobs=1,\n",
       "       param_grid={'clf__max_features': [10, 30, 40, 50, 60, 70, 90, 103]},\n",
       "       pre_dispatch='2*n_jobs', refit=True,\n",
       "       scoring=<function class_weighted_accuracy_score at 0x1a17f6bea0>,\n",
       "       verbose=1)"
      ]
     },
     "execution_count": 41,
     "metadata": {},
     "output_type": "execute_result"
    }
   ],
   "source": [
    "scaler = skl.preprocessing.StandardScaler()\n",
    "clf = skl.ensemble.RandomForestClassifier(n_estimators=100, criterion='gini', \n",
    "                                              max_features='auto', max_depth=None,\n",
    "                                              n_jobs=4, class_weight='balanced_subsample')\n",
    "rf_pipe = skl.pipeline.Pipeline([\n",
    "        ('scaler', scaler), ('clf', clf)])\n",
    "param_grid={'clf__max_features': [10, 30, 40, 50, 60, 70, 90, 103]}\n",
    "gridclf = skl.grid_search.GridSearchCV(rf_pipe, param_grid=param_grid, scoring=class_weighted_accuracy_score, \n",
    "                                            n_jobs=1, cv=3, verbose=1)\n",
    "gridclf.fit(X_train, y_train)"
   ]
  },
  {
   "cell_type": "code",
   "execution_count": 42,
   "metadata": {},
   "outputs": [
    {
     "data": {
      "text/plain": [
       "[mean: 0.66277, std: 0.02421, params: {'clf__max_features': 10},\n",
       " mean: 0.67909, std: 0.01628, params: {'clf__max_features': 30},\n",
       " mean: 0.67829, std: 0.00329, params: {'clf__max_features': 40},\n",
       " mean: 0.68642, std: 0.01785, params: {'clf__max_features': 50},\n",
       " mean: 0.68323, std: 0.01089, params: {'clf__max_features': 60},\n",
       " mean: 0.67646, std: 0.01229, params: {'clf__max_features': 70},\n",
       " mean: 0.68373, std: 0.00785, params: {'clf__max_features': 90},\n",
       " mean: 0.68114, std: 0.00997, params: {'clf__max_features': 103}]"
      ]
     },
     "execution_count": 42,
     "metadata": {},
     "output_type": "execute_result"
    }
   ],
   "source": [
    "gridclf.grid_scores_"
   ]
  },
  {
   "cell_type": "code",
   "execution_count": 43,
   "metadata": {},
   "outputs": [
    {
     "data": {
      "text/plain": [
       "Pipeline(memory=None,\n",
       "     steps=[('scaler', StandardScaler(copy=True, with_mean=True, with_std=True)), ('clf', RandomForestClassifier(bootstrap=True, class_weight='balanced_subsample',\n",
       "            criterion='gini', max_depth=None, max_features=50,\n",
       "            max_leaf_nodes=None, min_impurity_decrease=0.0,\n",
       "            min_im...mators=100, n_jobs=4, oob_score=False, random_state=None,\n",
       "            verbose=0, warm_start=False))])"
      ]
     },
     "execution_count": 43,
     "metadata": {},
     "output_type": "execute_result"
    }
   ],
   "source": [
    "gridclf.best_estimator_"
   ]
  },
  {
   "cell_type": "code",
   "execution_count": 44,
   "metadata": {
    "collapsed": true
   },
   "outputs": [],
   "source": [
    "scaler = skl.preprocessing.StandardScaler()\n",
    "final_clf = skl.ensemble.RandomForestClassifier(n_estimators=100,\n",
    "                                                  criterion='gini',\n",
    "                                                  max_features=50,\n",
    "                                                  max_depth=None,\n",
    "                                                  n_jobs=4,\n",
    "                                                  class_weight='balanced_subsample')\n",
    "final_rf_pipe = skl.pipeline.Pipeline([('scaler', scaler), ('clf', final_clf)])"
   ]
  },
  {
   "cell_type": "code",
   "execution_count": 45,
   "metadata": {},
   "outputs": [
    {
     "data": {
      "text/plain": [
       "Pipeline(memory=None,\n",
       "     steps=[('scaler', StandardScaler(copy=True, with_mean=True, with_std=True)), ('clf', RandomForestClassifier(bootstrap=True, class_weight='balanced_subsample',\n",
       "            criterion='gini', max_depth=None, max_features=50,\n",
       "            max_leaf_nodes=None, min_impurity_decrease=0.0,\n",
       "            min_im...mators=100, n_jobs=4, oob_score=False, random_state=None,\n",
       "            verbose=0, warm_start=False))])"
      ]
     },
     "execution_count": 45,
     "metadata": {},
     "output_type": "execute_result"
    }
   ],
   "source": [
    "final_rf_pipe.fit(X_train, y_train)"
   ]
  },
  {
   "cell_type": "code",
   "execution_count": 46,
   "metadata": {},
   "outputs": [
    {
     "data": {
      "text/plain": [
       "0.63794117647058823"
      ]
     },
     "execution_count": 46,
     "metadata": {},
     "output_type": "execute_result"
    }
   ],
   "source": [
    "class_weighted_accuracy_score(final_rf_pipe, X_test, y_test)"
   ]
  },
  {
   "cell_type": "code",
   "execution_count": 47,
   "metadata": {},
   "outputs": [
    {
     "data": {
      "text/plain": [
       "array([[171, 115],\n",
       "       [129, 276]])"
      ]
     },
     "execution_count": 47,
     "metadata": {},
     "output_type": "execute_result"
    }
   ],
   "source": [
    "skl.metrics.confusion_matrix(y_test, final_rf_pipe.predict(X_test), labels=final_rf_pipe.classes_).T"
   ]
  },
  {
   "cell_type": "code",
   "execution_count": 48,
   "metadata": {},
   "outputs": [
    {
     "data": {
      "text/html": [
       "<div>\n",
       "<style>\n",
       "    .dataframe thead tr:only-child th {\n",
       "        text-align: right;\n",
       "    }\n",
       "\n",
       "    .dataframe thead th {\n",
       "        text-align: left;\n",
       "    }\n",
       "\n",
       "    .dataframe tbody tr th {\n",
       "        vertical-align: top;\n",
       "    }\n",
       "</style>\n",
       "<table border=\"1\" class=\"dataframe\">\n",
       "  <thead>\n",
       "    <tr style=\"text-align: right;\">\n",
       "      <th>Predicted</th>\n",
       "      <th>10</th>\n",
       "      <th>9-</th>\n",
       "      <th>All</th>\n",
       "    </tr>\n",
       "    <tr>\n",
       "      <th>True</th>\n",
       "      <th></th>\n",
       "      <th></th>\n",
       "      <th></th>\n",
       "    </tr>\n",
       "  </thead>\n",
       "  <tbody>\n",
       "    <tr>\n",
       "      <th>10</th>\n",
       "      <td>171</td>\n",
       "      <td>129</td>\n",
       "      <td>300</td>\n",
       "    </tr>\n",
       "    <tr>\n",
       "      <th>9-</th>\n",
       "      <td>115</td>\n",
       "      <td>276</td>\n",
       "      <td>391</td>\n",
       "    </tr>\n",
       "    <tr>\n",
       "      <th>All</th>\n",
       "      <td>286</td>\n",
       "      <td>405</td>\n",
       "      <td>691</td>\n",
       "    </tr>\n",
       "  </tbody>\n",
       "</table>\n",
       "</div>"
      ],
      "text/plain": [
       "Predicted   10   9-  All\n",
       "True                    \n",
       "10         171  129  300\n",
       "9-         115  276  391\n",
       "All        286  405  691"
      ]
     },
     "execution_count": 48,
     "metadata": {},
     "output_type": "execute_result"
    }
   ],
   "source": [
    "pd.crosstab(y_test, final_rf_pipe.predict(X_test), rownames=['True'], colnames=['Predicted'], margins=True)"
   ]
  },
  {
   "cell_type": "code",
   "execution_count": 49,
   "metadata": {
    "scrolled": true
   },
   "outputs": [
    {
     "data": {
      "text/html": [
       "<div>\n",
       "<style>\n",
       "    .dataframe thead tr:only-child th {\n",
       "        text-align: right;\n",
       "    }\n",
       "\n",
       "    .dataframe thead th {\n",
       "        text-align: left;\n",
       "    }\n",
       "\n",
       "    .dataframe tbody tr th {\n",
       "        vertical-align: top;\n",
       "    }\n",
       "</style>\n",
       "<table border=\"1\" class=\"dataframe\">\n",
       "  <thead>\n",
       "    <tr style=\"text-align: right;\">\n",
       "      <th></th>\n",
       "      <th>importance</th>\n",
       "    </tr>\n",
       "  </thead>\n",
       "  <tbody>\n",
       "    <tr>\n",
       "      <th>number_of_reviews</th>\n",
       "      <td>0.121987</td>\n",
       "    </tr>\n",
       "    <tr>\n",
       "      <th>host_since_days</th>\n",
       "      <td>0.079521</td>\n",
       "    </tr>\n",
       "    <tr>\n",
       "      <th>distance_center</th>\n",
       "      <td>0.077572</td>\n",
       "    </tr>\n",
       "    <tr>\n",
       "      <th>longitude</th>\n",
       "      <td>0.076288</td>\n",
       "    </tr>\n",
       "    <tr>\n",
       "      <th>price</th>\n",
       "      <td>0.069710</td>\n",
       "    </tr>\n",
       "    <tr>\n",
       "      <th>host_is_superhost</th>\n",
       "      <td>0.069113</td>\n",
       "    </tr>\n",
       "    <tr>\n",
       "      <th>latitude</th>\n",
       "      <td>0.066737</td>\n",
       "    </tr>\n",
       "    <tr>\n",
       "      <th>host_listings_count</th>\n",
       "      <td>0.042302</td>\n",
       "    </tr>\n",
       "    <tr>\n",
       "      <th>host_total_listings_count</th>\n",
       "      <td>0.040808</td>\n",
       "    </tr>\n",
       "    <tr>\n",
       "      <th>cleaning_fee</th>\n",
       "      <td>0.035207</td>\n",
       "    </tr>\n",
       "    <tr>\n",
       "      <th>host_acceptance_rate</th>\n",
       "      <td>0.032036</td>\n",
       "    </tr>\n",
       "    <tr>\n",
       "      <th>extra_people</th>\n",
       "      <td>0.031131</td>\n",
       "    </tr>\n",
       "    <tr>\n",
       "      <th>security_deposit</th>\n",
       "      <td>0.022512</td>\n",
       "    </tr>\n",
       "    <tr>\n",
       "      <th>host_response_rate</th>\n",
       "      <td>0.022093</td>\n",
       "    </tr>\n",
       "    <tr>\n",
       "      <th>accommodates</th>\n",
       "      <td>0.019229</td>\n",
       "    </tr>\n",
       "    <tr>\n",
       "      <th>cancellation_policy_strict</th>\n",
       "      <td>0.009225</td>\n",
       "    </tr>\n",
       "    <tr>\n",
       "      <th>cancellation_policy_moderate</th>\n",
       "      <td>0.007512</td>\n",
       "    </tr>\n",
       "    <tr>\n",
       "      <th>instant_bookable</th>\n",
       "      <td>0.006934</td>\n",
       "    </tr>\n",
       "    <tr>\n",
       "      <th>beds_2.0</th>\n",
       "      <td>0.006738</td>\n",
       "    </tr>\n",
       "    <tr>\n",
       "      <th>room_type_Private room</th>\n",
       "      <td>0.006131</td>\n",
       "    </tr>\n",
       "    <tr>\n",
       "      <th>neighbourhood_cleansed_Mission Hill</th>\n",
       "      <td>0.005998</td>\n",
       "    </tr>\n",
       "    <tr>\n",
       "      <th>host_response_time_b'within a few hours'</th>\n",
       "      <td>0.005898</td>\n",
       "    </tr>\n",
       "    <tr>\n",
       "      <th>property_type_Condominium</th>\n",
       "      <td>0.005704</td>\n",
       "    </tr>\n",
       "    <tr>\n",
       "      <th>neighbourhood_cleansed_Jamaica Plain</th>\n",
       "      <td>0.005604</td>\n",
       "    </tr>\n",
       "    <tr>\n",
       "      <th>Free parking</th>\n",
       "      <td>0.005487</td>\n",
       "    </tr>\n",
       "    <tr>\n",
       "      <th>bedrooms_2.0</th>\n",
       "      <td>0.005290</td>\n",
       "    </tr>\n",
       "    <tr>\n",
       "      <th>beds_1.0</th>\n",
       "      <td>0.005199</td>\n",
       "    </tr>\n",
       "    <tr>\n",
       "      <th>host_response_time_b'within an hour'</th>\n",
       "      <td>0.005177</td>\n",
       "    </tr>\n",
       "    <tr>\n",
       "      <th>host_response_time_b'within a day'</th>\n",
       "      <td>0.005133</td>\n",
       "    </tr>\n",
       "    <tr>\n",
       "      <th>host_response_time_b'nan'</th>\n",
       "      <td>0.005079</td>\n",
       "    </tr>\n",
       "    <tr>\n",
       "      <th>...</th>\n",
       "      <td>...</td>\n",
       "    </tr>\n",
       "    <tr>\n",
       "      <th>bathrooms_6.0</th>\n",
       "      <td>0.000261</td>\n",
       "    </tr>\n",
       "    <tr>\n",
       "      <th>cancellation_policy_super_strict_30</th>\n",
       "      <td>0.000208</td>\n",
       "    </tr>\n",
       "    <tr>\n",
       "      <th>neighbourhood_cleansed_Bay Village</th>\n",
       "      <td>0.000186</td>\n",
       "    </tr>\n",
       "    <tr>\n",
       "      <th>bedrooms_5.0</th>\n",
       "      <td>0.000176</td>\n",
       "    </tr>\n",
       "    <tr>\n",
       "      <th>bathrooms_3.5</th>\n",
       "      <td>0.000123</td>\n",
       "    </tr>\n",
       "    <tr>\n",
       "      <th>bed_type_Couch</th>\n",
       "      <td>0.000118</td>\n",
       "    </tr>\n",
       "    <tr>\n",
       "      <th>bathrooms_5.0</th>\n",
       "      <td>0.000117</td>\n",
       "    </tr>\n",
       "    <tr>\n",
       "      <th>bathrooms_4.0</th>\n",
       "      <td>0.000109</td>\n",
       "    </tr>\n",
       "    <tr>\n",
       "      <th>property_type_Villa</th>\n",
       "      <td>0.000073</td>\n",
       "    </tr>\n",
       "    <tr>\n",
       "      <th>beds_9.0</th>\n",
       "      <td>0.000054</td>\n",
       "    </tr>\n",
       "    <tr>\n",
       "      <th>bathrooms_1.22164659759</th>\n",
       "      <td>0.000042</td>\n",
       "    </tr>\n",
       "    <tr>\n",
       "      <th>property_type_Dorm</th>\n",
       "      <td>0.000037</td>\n",
       "    </tr>\n",
       "    <tr>\n",
       "      <th>beds_8.0</th>\n",
       "      <td>0.000037</td>\n",
       "    </tr>\n",
       "    <tr>\n",
       "      <th>bathrooms_0.5</th>\n",
       "      <td>0.000030</td>\n",
       "    </tr>\n",
       "    <tr>\n",
       "      <th>property_type_Boat</th>\n",
       "      <td>0.000027</td>\n",
       "    </tr>\n",
       "    <tr>\n",
       "      <th>property_type_Guesthouse</th>\n",
       "      <td>0.000018</td>\n",
       "    </tr>\n",
       "    <tr>\n",
       "      <th>bedrooms_1.25594405594</th>\n",
       "      <td>0.000015</td>\n",
       "    </tr>\n",
       "    <tr>\n",
       "      <th>Free Street parking</th>\n",
       "      <td>0.000000</td>\n",
       "    </tr>\n",
       "    <tr>\n",
       "      <th>property_type_Camper/RV</th>\n",
       "      <td>0.000000</td>\n",
       "    </tr>\n",
       "    <tr>\n",
       "      <th>beds_7.0</th>\n",
       "      <td>0.000000</td>\n",
       "    </tr>\n",
       "    <tr>\n",
       "      <th>Heating</th>\n",
       "      <td>0.000000</td>\n",
       "    </tr>\n",
       "    <tr>\n",
       "      <th>24 hour check in</th>\n",
       "      <td>0.000000</td>\n",
       "    </tr>\n",
       "    <tr>\n",
       "      <th>No Smoking</th>\n",
       "      <td>0.000000</td>\n",
       "    </tr>\n",
       "    <tr>\n",
       "      <th>bathrooms_4.5</th>\n",
       "      <td>0.000000</td>\n",
       "    </tr>\n",
       "    <tr>\n",
       "      <th>property_type_Entire Floor</th>\n",
       "      <td>0.000000</td>\n",
       "    </tr>\n",
       "    <tr>\n",
       "      <th>beds_16.0</th>\n",
       "      <td>0.000000</td>\n",
       "    </tr>\n",
       "    <tr>\n",
       "      <th>Wifi</th>\n",
       "      <td>0.000000</td>\n",
       "    </tr>\n",
       "    <tr>\n",
       "      <th>TV</th>\n",
       "      <td>0.000000</td>\n",
       "    </tr>\n",
       "    <tr>\n",
       "      <th>neighbourhood_cleansed_Leather District</th>\n",
       "      <td>0.000000</td>\n",
       "    </tr>\n",
       "    <tr>\n",
       "      <th>neighbourhood_cleansed_Longwood Medical Area</th>\n",
       "      <td>0.000000</td>\n",
       "    </tr>\n",
       "  </tbody>\n",
       "</table>\n",
       "<p>103 rows × 1 columns</p>\n",
       "</div>"
      ],
      "text/plain": [
       "                                              importance\n",
       "number_of_reviews                               0.121987\n",
       "host_since_days                                 0.079521\n",
       "distance_center                                 0.077572\n",
       "longitude                                       0.076288\n",
       "price                                           0.069710\n",
       "host_is_superhost                               0.069113\n",
       "latitude                                        0.066737\n",
       "host_listings_count                             0.042302\n",
       "host_total_listings_count                       0.040808\n",
       "cleaning_fee                                    0.035207\n",
       "host_acceptance_rate                            0.032036\n",
       "extra_people                                    0.031131\n",
       "security_deposit                                0.022512\n",
       "host_response_rate                              0.022093\n",
       "accommodates                                    0.019229\n",
       "cancellation_policy_strict                      0.009225\n",
       "cancellation_policy_moderate                    0.007512\n",
       "instant_bookable                                0.006934\n",
       "beds_2.0                                        0.006738\n",
       "room_type_Private room                          0.006131\n",
       "neighbourhood_cleansed_Mission Hill             0.005998\n",
       "host_response_time_b'within a few hours'        0.005898\n",
       "property_type_Condominium                       0.005704\n",
       "neighbourhood_cleansed_Jamaica Plain            0.005604\n",
       "Free parking                                    0.005487\n",
       "bedrooms_2.0                                    0.005290\n",
       "beds_1.0                                        0.005199\n",
       "host_response_time_b'within an hour'            0.005177\n",
       "host_response_time_b'within a day'              0.005133\n",
       "host_response_time_b'nan'                       0.005079\n",
       "...                                                  ...\n",
       "bathrooms_6.0                                   0.000261\n",
       "cancellation_policy_super_strict_30             0.000208\n",
       "neighbourhood_cleansed_Bay Village              0.000186\n",
       "bedrooms_5.0                                    0.000176\n",
       "bathrooms_3.5                                   0.000123\n",
       "bed_type_Couch                                  0.000118\n",
       "bathrooms_5.0                                   0.000117\n",
       "bathrooms_4.0                                   0.000109\n",
       "property_type_Villa                             0.000073\n",
       "beds_9.0                                        0.000054\n",
       "bathrooms_1.22164659759                         0.000042\n",
       "property_type_Dorm                              0.000037\n",
       "beds_8.0                                        0.000037\n",
       "bathrooms_0.5                                   0.000030\n",
       "property_type_Boat                              0.000027\n",
       "property_type_Guesthouse                        0.000018\n",
       "bedrooms_1.25594405594                          0.000015\n",
       "Free Street parking                             0.000000\n",
       "property_type_Camper/RV                         0.000000\n",
       "beds_7.0                                        0.000000\n",
       "Heating                                         0.000000\n",
       "24 hour check in                                0.000000\n",
       "No Smoking                                      0.000000\n",
       "bathrooms_4.5                                   0.000000\n",
       "property_type_Entire Floor                      0.000000\n",
       "beds_16.0                                       0.000000\n",
       "Wifi                                            0.000000\n",
       "TV                                              0.000000\n",
       "neighbourhood_cleansed_Leather District         0.000000\n",
       "neighbourhood_cleansed_Longwood Medical Area    0.000000\n",
       "\n",
       "[103 rows x 1 columns]"
      ]
     },
     "execution_count": 49,
     "metadata": {},
     "output_type": "execute_result"
    }
   ],
   "source": [
    "feature_importances = pd.DataFrame(final_rf_pipe.named_steps['clf'].feature_importances_,\n",
    "                                   index = X_train.columns,\n",
    "                                    columns=['importance']).sort_values('importance',                                                                 \n",
    "                                                                        ascending=False)\n",
    "feature_importances"
   ]
  },
  {
   "cell_type": "code",
   "execution_count": 50,
   "metadata": {},
   "outputs": [
    {
     "data": {
      "image/png": "[encoded data removed]",
      "text/plain": [
       "<matplotlib.figure.Figure at 0x1a184a38d0>"
      ]
     },
     "metadata": {},
     "output_type": "display_data"
    }
   ],
   "source": [
    "feature_importances.nlargest(10, 'importance').plot(kind='barh');"
   ]
  },
  {
   "cell_type": "code",
   "execution_count": null,
   "metadata": {
    "collapsed": true
   },
   "outputs": [],
   "source": []
  }
 ],
 "metadata": {
  "kernelspec": {
   "display_name": "Python 3",
   "language": "python",
   "name": "python3"
  },
  "language_info": {
   "codemirror_mode": {
    "name": "ipython",
    "version": 3
   },
   "file_extension": ".py",
   "mimetype": "text/x-python",
   "name": "python",
   "nbconvert_exporter": "python",
   "pygments_lexer": "ipython3",
   "version": "3.6.3"
  }
 },
 "nbformat": 4,
 "nbformat_minor": 2
}
